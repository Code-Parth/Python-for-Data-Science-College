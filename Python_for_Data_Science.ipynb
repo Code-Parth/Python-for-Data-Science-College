{
  "cells": [
    {
      "cell_type": "markdown",
      "metadata": {
        "id": "view-in-github",
        "colab_type": "text"
      },
      "source": [
        "<a href=\"https://colab.research.google.com/github/Code-Parth/Python-for-Data-Science-College/blob/main/Python_for_Data_Science.ipynb\" target=\"_parent\"><img src=\"https://colab.research.google.com/assets/colab-badge.svg\" alt=\"Open In Colab\"/></a>"
      ]
    },
    {
      "cell_type": "markdown",
      "metadata": {
        "id": "47jRYBXOf1MW"
      },
      "source": [
        "# **Practical 01**\n",
        "\n",
        "**Programs to understand the control structures of python.**\n",
        "1. Python program to print &quot;Hello Python&quot;\n",
        "2. Python program to find the area of a triangle\n",
        "3. Python Program to Check Leap Year\n",
        "4. Python Program to Find the Sum of Natural Numbers\n",
        "5. Python Program to Print all Prime Numbers between an Interval\n",
        "\n",
        "-----"
      ]
    },
    {
      "cell_type": "markdown",
      "metadata": {
        "id": "02dbQgKng_gx"
      },
      "source": [
        "## **1. Python program to print \"Hello Python\"**"
      ]
    },
    {
      "cell_type": "code",
      "execution_count": null,
      "metadata": {
        "id": "IGfRERFdeoVf"
      },
      "outputs": [],
      "source": [
        "print (\"Hello Python\")"
      ]
    },
    {
      "cell_type": "markdown",
      "metadata": {
        "id": "CdHZGpAvhQVY"
      },
      "source": [
        "## **2. Python program to find the area of a triangle**"
      ]
    },
    {
      "cell_type": "code",
      "execution_count": null,
      "metadata": {
        "id": "Q8inJbz-haS5"
      },
      "outputs": [],
      "source": [
        "# import math module\n",
        "import math\n",
        "\n",
        "# take inputs\n",
        "a = float(input('Enter first side: '))\n",
        "b = float(input('Enter second side: '))\n",
        "c = float(input('Enter third side: '))\n",
        "\n",
        "# calculate the semi-perimeter\n",
        "s = (a + b + c) / 2\n",
        "\n",
        "# calculate the area using heron's formula\n",
        "area = math.sqrt(s * (s - a) * (s - b) * (s - c))\n",
        "print('The area of the triangle is %0.2f' % area)"
      ]
    },
    {
      "cell_type": "markdown",
      "metadata": {
        "id": "R_UDSlyMivUl"
      },
      "source": [
        "## **3. Python Program to Check Leap Year**"
      ]
    },
    {
      "cell_type": "code",
      "execution_count": null,
      "metadata": {
        "id": "YRhkTJAHi7bc"
      },
      "outputs": [],
      "source": [
        "year = int(input(\"Enter a year: \"))\n",
        "\n",
        "if year % 4 == 0:\n",
        "    if year % 100 == 0:\n",
        "        if year % 400 == 0:\n",
        "            print(year, \"is a leap year.\")\n",
        "        else:\n",
        "            print(year, \"is not a leap year.\")\n",
        "    else:\n",
        "        print(year, \"is a leap year.\")\n",
        "else:\n",
        "    print(year, \"is not a leap year.\")\n"
      ]
    },
    {
      "cell_type": "markdown",
      "metadata": {
        "id": "M0U42c5ykJWN"
      },
      "source": [
        "## **4. Python Program to Find the Sum of Natural Numbers**"
      ]
    },
    {
      "cell_type": "code",
      "execution_count": null,
      "metadata": {
        "id": "mIe61OMzkPHN"
      },
      "outputs": [],
      "source": [
        "# Take input from the user\n",
        "num = int(input(\"Enter a number: \"))\n",
        "sum = 0\n",
        "\n",
        "# use while loop to iterate un till zero\n",
        "while(num > 0):\n",
        "    sum += num\n",
        "    num -= 1\n",
        "\n",
        "print(\"The sum is\", sum)"
      ]
    },
    {
      "cell_type": "markdown",
      "metadata": {
        "id": "_pN8sp44kgUC"
      },
      "source": [
        "## **5. Python Program to Print all Prime Numbers between an Interval**"
      ]
    },
    {
      "cell_type": "code",
      "execution_count": null,
      "metadata": {
        "id": "Oi87z4KYko6A"
      },
      "outputs": [],
      "source": [
        "# define a function\n",
        "def prime_numbers(start, end):\n",
        "    for num in range(start, end + 1):\n",
        "        if num > 1:\n",
        "            for i in range(2, num):\n",
        "                if (num % i) == 0:\n",
        "                    break\n",
        "            else:\n",
        "                print(num)\n",
        "\n",
        "\n",
        "# take input from the user\n",
        "start = int(input(\"Enter the start of the interval: \"))\n",
        "end = int(input(\"Enter the end of the interval: \"))\n",
        "print(\"Prime numbers between\", start, \"and\", end, \"are:\")\n",
        "prime_numbers(start, end)"
      ]
    },
    {
      "cell_type": "markdown",
      "metadata": {
        "id": "4n63eV9SV5G4"
      },
      "source": [
        "# **Practical 02**\n",
        "\n",
        "**Develop Programs to learn different data-types (string “ ”, set { }, list [ ],\n",
        "dictionary { : }, tuple ( )) in python.**\n",
        "\n",
        "1. Python Program to Remove Punctuation from a String\n",
        "2. Python Program to Illustrate Different Set Operations – Union, Intersection, Difference, Symmetric Difference\n",
        "3. Python Program to demonstrate list slicing\n",
        "4. Python Program to compare two lists\n",
        "5. Python Program to Check If a List is Empty\n",
        "6. Python Program Concatenate Two Lists\n",
        "7. Python Program to Merge Two Dictionaries\n",
        "8. Python Program to Iterate Over Dictionaries Using for Loop\n",
        "9. Python Program to Sort a Dictionary by Value\n",
        "10. Python Program to Find the size of a Tuple\n",
        "11. Python Program to find Sum of Tuple’s elements (numbers)\n",
        "12. Python Program to Count the Number of Each Vowel\n",
        "\n",
        "-----"
      ]
    },
    {
      "cell_type": "markdown",
      "metadata": {
        "id": "D3iMbHtyWMJq"
      },
      "source": [
        "## **1. Python Program to Remove Punctuation from a String**"
      ]
    },
    {
      "cell_type": "code",
      "execution_count": null,
      "metadata": {
        "id": "V49wUzFxW6RI"
      },
      "outputs": [],
      "source": [
        "# Define a string of punctuation characters to remove from the input string\n",
        "punctuations = \"='!()-[]0};:\"\"\\,<>./?@#$%^&'\"\n",
        "\n",
        "# Prompt the user to enter a string\n",
        "my_str = input(\"Enter a string:- \")\n",
        "\n",
        "# Initialize an empty string to hold the input string with punctuation removed\n",
        "no_punct = \"\"\n",
        "\n",
        "# Iterate over each character in the input string\n",
        "for char in my_str:\n",
        "    # If the character is not in the punctuation string, add it to the no_punct string\n",
        "    if char not in punctuations:\n",
        "        no_punct = no_punct + char\n",
        "\n",
        "# Print the input string with punctuation removed\n",
        "print(no_punct)"
      ]
    },
    {
      "cell_type": "markdown",
      "metadata": {
        "id": "JJt7waUpWwzh"
      },
      "source": [
        "## **2. Python Program to Illustrate Different Set Operations – Union, Intersection, Difference, Symmetric Difference**"
      ]
    },
    {
      "cell_type": "code",
      "execution_count": null,
      "metadata": {
        "id": "R_WHMBBJW7pX"
      },
      "outputs": [],
      "source": [
        "# define two sets\n",
        "set1 = {1, 2, 3, 4, 5}\n",
        "set2 = {4, 5, 6, 7, 8}\n",
        "\n",
        "# union of two sets\n",
        "print(\"Union of two sets:\", set1 | set2)\n",
        "\n",
        "# intersection of two sets\n",
        "print(\"Intersection of two sets:\", set1 & set2)\n",
        "\n",
        "# difference of two sets\n",
        "print(\"Difference of two sets:\", set1 - set2)\n",
        "\n",
        "# symmetric difference of two sets\n",
        "print(\"Symmetric difference of two sets:\", set1 ^ set2)"
      ]
    },
    {
      "cell_type": "markdown",
      "metadata": {
        "id": "M8nYsI6xXBCo"
      },
      "source": [
        "## **3. Python Program to demonstrate list slicing**"
      ]
    },
    {
      "cell_type": "code",
      "execution_count": null,
      "metadata": {
        "id": "gS9fzXMpXGL3"
      },
      "outputs": [],
      "source": [
        "# Define a list of numbers\n",
        "numbers = [1, 2, 3, 4, 5, 6, 7, 8, 9, 10]\n",
        "\n",
        "# Print the entire list\n",
        "print(\"Original list:\", numbers)\n",
        "\n",
        "# Print the first three elements of the list\n",
        "print(\"First three elements:\", numbers[:3])\n",
        "\n",
        "# Print the last three elements of the list\n",
        "print(\"Last three elements:\", numbers[-3:])\n",
        "\n",
        "# Print every other element of the list\n",
        "print(\"Every other element:\", numbers[::2])\n",
        "\n",
        "# Print the elements of the list in reverse order\n",
        "print(\"Reversed list:\", numbers[::-1])"
      ]
    },
    {
      "cell_type": "markdown",
      "metadata": {
        "id": "vIb2uXxSXKNg"
      },
      "source": [
        "## **4. Python Program to compare two lists**"
      ]
    },
    {
      "cell_type": "code",
      "execution_count": null,
      "metadata": {
        "id": "jT4gaS4EXPcH"
      },
      "outputs": [],
      "source": [
        "# Define two lists of numbers\n",
        "list1 = [1, 2, 3, 4, 5]\n",
        "list2 = [1, 2, 3, 4, 6]\n",
        "\n",
        "# Check if the two lists are equal\n",
        "if list1 == list2:\n",
        "    print(\"The two lists are equal\")\n",
        "else:\n",
        "    print(\"The two lists are not equal\")\n",
        "\n",
        "# Check if the two lists have the same elements (order doesn't matter)\n",
        "if set(list1) == set(list2):\n",
        "    print(\"The two lists have the same elements\")\n",
        "else:\n",
        "    print(\"The two lists do not have the same elements\")\n"
      ]
    },
    {
      "cell_type": "markdown",
      "metadata": {
        "id": "KtyQhOUfXQ83"
      },
      "source": [
        "## **5. Python Program to Check If a List is Empty**"
      ]
    },
    {
      "cell_type": "code",
      "execution_count": null,
      "metadata": {
        "id": "jNiDvxNAXYk4"
      },
      "outputs": [],
      "source": [
        "# Define a list of numbers\n",
        "my_list = [1, 2, 3]\n",
        "\n",
        "# Check if the list is empty using the len() function\n",
        "if len(my_list) == 0:\n",
        "    print(\"The list is empty\")\n",
        "else:\n",
        "    print(\"The list is not empty\")\n"
      ]
    },
    {
      "cell_type": "markdown",
      "metadata": {
        "id": "jwOzm2xUXcDn"
      },
      "source": [
        "## **6. Python Program Concatenate Two Lists**"
      ]
    },
    {
      "cell_type": "code",
      "execution_count": null,
      "metadata": {
        "id": "8nqEWyStXh1w"
      },
      "outputs": [],
      "source": [
        "# Define two lists of numbers\n",
        "list1 = [1, 2, 3]\n",
        "list2 = [4, 5, 6]\n",
        "\n",
        "# Concatenate the two lists using the + operator\n",
        "concatenated_list = list1 + list2\n",
        "\n",
        "# Print the concatenated list\n",
        "print(\"Concatenated list:\", concatenated_list)"
      ]
    },
    {
      "cell_type": "markdown",
      "metadata": {
        "id": "wp5eEcmvXjwf"
      },
      "source": [
        "## **7. Python Program to Merge Two Dictionaries**"
      ]
    },
    {
      "cell_type": "code",
      "execution_count": null,
      "metadata": {
        "id": "3iAGtyH6XzVj"
      },
      "outputs": [],
      "source": [
        "# Define two dictionaries\n",
        "dict1 = {'a': 1, 'b': 2}\n",
        "dict2 = {'c': 3, 'd': 4}\n",
        "\n",
        "# Merge the two dictionaries using the update() method\n",
        "merged_dict = dict1.copy()\n",
        "merged_dict.update(dict2)\n",
        "\n",
        "# Print the merged dictionary\n",
        "print(\"Merged dictionary:\", merged_dict)"
      ]
    },
    {
      "cell_type": "markdown",
      "metadata": {
        "id": "qOjAZCwwX0DP"
      },
      "source": [
        "## **8. Python Program to Iterate Over Dictionaries Using for Loop**"
      ]
    },
    {
      "cell_type": "code",
      "execution_count": null,
      "metadata": {
        "id": "e4dpmx4FX6W2"
      },
      "outputs": [],
      "source": [
        "# Define a dictionary of key-value pairs\n",
        "my_dict = {'a': 1, 'b': 2, 'c': 3}\n",
        "\n",
        "# Iterate over the dictionary using a for loop\n",
        "for key, value in my_dict.items():\n",
        "    print(key, value)\n"
      ]
    },
    {
      "cell_type": "markdown",
      "metadata": {
        "id": "7MRQ1qHEX69B"
      },
      "source": [
        "## **9. Python Program to Sort a Dictionary by Value**"
      ]
    },
    {
      "cell_type": "code",
      "execution_count": null,
      "metadata": {
        "id": "Zb_bqw2zYABH"
      },
      "outputs": [],
      "source": [
        "# Define a dictionary of key-value pairs\n",
        "my_dict = {'apple': 5, 'banana': 2, 'orange': 4, 'pear': 3}\n",
        "\n",
        "# Sort the dictionary by value using the sorted() function and a lambda function\n",
        "sorted_dict = dict(sorted(my_dict.items(), key=lambda item: item[1]))\n",
        "\n",
        "# Print the sorted dictionary\n",
        "print(\"Sorted dictionary:\", sorted_dict)"
      ]
    },
    {
      "cell_type": "markdown",
      "metadata": {
        "id": "QIr1rit2YAi3"
      },
      "source": [
        "## **10. Python Program to Find the size of a Tuple**"
      ]
    },
    {
      "cell_type": "code",
      "execution_count": null,
      "metadata": {
        "id": "9pGm-YHlYFaH"
      },
      "outputs": [],
      "source": [
        "# Define a tuple of numbers\n",
        "my_tuple = (1, 2, 3, 4, 5)\n",
        "\n",
        "# Find the size of the tuple using the len() function\n",
        "tuple_size = len(my_tuple)\n",
        "\n",
        "# Print the size of the tuple\n",
        "print(\"Size of the tuple:\", tuple_size)"
      ]
    },
    {
      "cell_type": "markdown",
      "metadata": {
        "id": "ZmGtzVVCYF4i"
      },
      "source": [
        "## **11. Python Program to find Sum of Tuple’s elements (numbers)**"
      ]
    },
    {
      "cell_type": "code",
      "execution_count": null,
      "metadata": {
        "id": "po4BAXNMYMGR"
      },
      "outputs": [],
      "source": [
        "# Define a tuple of numbers\n",
        "my_tuple = (1, 2, 3, 4, 5)\n",
        "\n",
        "# Find the sum of the tuple's elements using the sum() function\n",
        "tuple_sum = sum(my_tuple)\n",
        "\n",
        "# Print the sum of the tuple's elements\n",
        "print(\"Sum of the tuple's elements:\", tuple_sum)"
      ]
    },
    {
      "cell_type": "markdown",
      "metadata": {
        "id": "BJ-tHrrHYMtX"
      },
      "source": [
        "## **12. Python Program to Count the Number of Each Vowel**"
      ]
    },
    {
      "cell_type": "code",
      "execution_count": null,
      "metadata": {
        "id": "WCjkKgMAYRio"
      },
      "outputs": [],
      "source": [
        "# Define a string of vowels\n",
        "vowels = 'aeiou'\n",
        "\n",
        "# Prompt the user to enter a string\n",
        "my_str = input(\"Enter a string: \")\n",
        "\n",
        "# Convert the string to lowercase\n",
        "my_str = my_str.lower()\n",
        "\n",
        "# Initialize a dictionary to hold the vowel counts\n",
        "vowel_counts = {}\n",
        "\n",
        "# Iterate over each character in the string\n",
        "for char in my_str:\n",
        "    # If the character is a vowel, increment its count in the dictionary\n",
        "    if char in vowels:\n",
        "        if char in vowel_counts:\n",
        "            vowel_counts[char] += 1\n",
        "        else:\n",
        "            vowel_counts[char] = 1\n",
        "\n",
        "# Print the vowel counts\n",
        "for vowel, count in vowel_counts.items():\n",
        "    print(vowel, count)\n"
      ]
    },
    {
      "cell_type": "markdown",
      "metadata": {
        "id": "rpRtp5TGY_Db"
      },
      "source": [
        "#  **Practical 03**\n",
        "\n",
        "**Develop Programs to learn concept of functions scoping, recursion and list mutability**\n",
        "\n",
        "1. Python Program to demonstrate use of local, nonlocal &amp; global variable\n",
        "2. Python Program to Make a Simple Calculator\n",
        "3. Python Program to Find Factorial of Number Using Recursion\n",
        "4. Python Program to Display Fibonacci Sequence Using Recursion\n",
        "\n",
        "-----"
      ]
    },
    {
      "cell_type": "markdown",
      "metadata": {
        "id": "RHj_NfAgZTg5"
      },
      "source": [
        "## **1. Python Program to demonstrate use of local, nonlocal &amp; global variable**"
      ]
    },
    {
      "cell_type": "code",
      "execution_count": null,
      "metadata": {
        "id": "xROuRUNpZW94"
      },
      "outputs": [],
      "source": [
        "# Define a global variable\n",
        "global_var = 10\n",
        "\n",
        "# Define a function that uses a local variable\n",
        "def my_func():\n",
        "    local_var = 5\n",
        "    print(\"Local variable:\", local_var)\n",
        "\n",
        "# Define a function that uses a nonlocal variable\n",
        "def outer_func():\n",
        "    nonlocal nonlocal_var\n",
        "    nonlocal_var = 7\n",
        "    print(\"Nonlocal variable:\", nonlocal_var)\n",
        "\n",
        "    # Define a function that uses a local variable\n",
        "    def inner_func():\n",
        "        local_var = 3\n",
        "        print(\"Local variable:\", local_var)\n",
        "\n",
        "    # Call the inner function\n",
        "    inner_func()\n",
        "\n",
        "# Define a recursive function that calculates the factorial of a number\n",
        "def factorial(n):\n",
        "    if n == 0:\n",
        "        return 1\n",
        "    else:\n",
        "        return n * factorial(n-1)\n",
        "\n",
        "# Define a function that modifies a list\n",
        "def modify_list(my_list):\n",
        "    my_list.append(4)\n",
        "    print(\"List inside function:\", my_list)\n",
        "\n",
        "# Call the first function\n",
        "my_func()\n",
        "\n",
        "# Call the second function\n",
        "nonlocal_var = 0\n",
        "outer_func()\n",
        "print(\"Nonlocal variable (after outer function call):\", nonlocal_var)\n",
        "\n",
        "# Print the global variable\n",
        "print(\"Global variable:\", global_var)\n",
        "\n",
        "# Call the recursive function\n",
        "print(\"Factorial of 5:\", factorial(5))\n",
        "\n",
        "# Call the function that modifies a list\n",
        "my_list = [1, 2, 3]\n",
        "modify_list(my_list)\n",
        "print(\"List outside function:\", my_list)"
      ]
    },
    {
      "cell_type": "markdown",
      "metadata": {
        "id": "b0aRwotJZUO4"
      },
      "source": [
        "## **2. Python Program to Make a Simple Calculator**"
      ]
    },
    {
      "cell_type": "code",
      "execution_count": null,
      "metadata": {
        "id": "ki2LeGvtZXlo"
      },
      "outputs": [],
      "source": [
        "# Define a function to add two numbers\n",
        "def add(num1, num2):\n",
        "    return num1 + num2\n",
        "\n",
        "# Define a function to subtract two numbers\n",
        "def subtract(num1, num2):\n",
        "    return num1 - num2\n",
        "\n",
        "# Define a function to multiply two numbers\n",
        "def multiply(num1, num2):\n",
        "    return num1 * num2\n",
        "\n",
        "# Define a function to divide two numbers\n",
        "def divide(num1, num2):\n",
        "    return num1 / num2\n",
        "\n",
        "# Prompt the user to enter two numbers and an operation\n",
        "num1 = float(input(\"Enter the first number: \"))\n",
        "num2 = float(input(\"Enter the second number: \"))\n",
        "operation = input(\"Enter the operation (+, -, *, /): \")\n",
        "\n",
        "# Perform the selected operation on the two numbers\n",
        "if operation == '+':\n",
        "    result = add(num1, num2)\n",
        "elif operation == '-':\n",
        "    result = subtract(num1, num2)\n",
        "elif operation == '*':\n",
        "    result = multiply(num1, num2)\n",
        "elif operation == '/':\n",
        "    result = divide(num1, num2)\n",
        "else:\n",
        "    print(\"Invalid operation selected.\")\n",
        "    result = None\n",
        "\n",
        "# Print the result of the operation\n",
        "if result is not None:\n",
        "    print(\"Result:\", result)\n"
      ]
    },
    {
      "cell_type": "markdown",
      "metadata": {
        "id": "uvJf-DqoZUoo"
      },
      "source": [
        "## **3. Python Program to Find Factorial of Number Using Recursion**"
      ]
    },
    {
      "cell_type": "code",
      "execution_count": null,
      "metadata": {
        "id": "a89OfN4iZYaw"
      },
      "outputs": [],
      "source": [
        "# Define a function to calculate the factorial of a number\n",
        "def factorial(n):\n",
        "    if n == 0:\n",
        "        return 1\n",
        "    else:\n",
        "        return n * factorial(n-1)\n",
        "\n",
        "# Prompt the user to enter a number\n",
        "num = int(input(\"Enter a number: \"))\n",
        "\n",
        "# Calculate the factorial of the number using the factorial() function\n",
        "result = factorial(num)\n",
        "\n",
        "# Print the result\n",
        "print(\"Factorial of\", num, \"is\", result)"
      ]
    },
    {
      "cell_type": "markdown",
      "metadata": {
        "id": "t8GAyaoIZVE4"
      },
      "source": [
        "## **4. Python Program to Display Fibonacci Sequence Using Recursion**"
      ]
    },
    {
      "cell_type": "code",
      "execution_count": null,
      "metadata": {
        "id": "jV5vJB9nZYFZ"
      },
      "outputs": [],
      "source": [
        "# Define a function to calculate the nth Fibonacci number\n",
        "def fibonacci(n):\n",
        "    if n <= 1:\n",
        "        return n\n",
        "    else:\n",
        "        return fibonacci(n-1) + fibonacci(n-2)\n",
        "\n",
        "# Prompt the user to enter the number of terms to display\n",
        "num_terms = int(input(\"Enter the number of terms to display: \"))\n",
        "\n",
        "# Display the Fibonacci sequence using the fibonacci() function\n",
        "for i in range(num_terms):\n",
        "    print(fibonacci(i))\n"
      ]
    },
    {
      "cell_type": "markdown",
      "metadata": {
        "id": "iRqe5SesWs6v"
      },
      "source": [
        "# **Practical 04**\n",
        "\n",
        "**Develop Programs to understand working of exception handling and assertions.**\n",
        "\n",
        "1. Program Program to depict else clause with try-expect\n",
        "2. Python Program to demonstrate finally\n",
        "3. Python Program to depict Raising Exception\n",
        "4. Python Program using assertions\n",
        "\n",
        "-----"
      ]
    },
    {
      "cell_type": "markdown",
      "metadata": {
        "id": "kEY5NAD_Ws6v"
      },
      "source": [
        "## **1. Program Program to depict else clause with try-expect**"
      ]
    },
    {
      "cell_type": "code",
      "execution_count": null,
      "metadata": {
        "id": "WkkixbGVWs6w"
      },
      "outputs": [],
      "source": [
        "def divide(a, b):\n",
        "    try:\n",
        "        result = a / b\n",
        "    except ZeroDivisionError:\n",
        "        print(\"Error: Cannot divide by zero!\")\n",
        "    else:\n",
        "        print(f\"The result of {a} divided by {b} is {result}\")\n",
        "\n",
        "divide(10, 2) # Output: The result of 10 divided by 2 is 5.0\n",
        "divide(5, 0) # Output: Error: Cannot divide by zero!"
      ]
    },
    {
      "cell_type": "markdown",
      "metadata": {
        "id": "RKed_sVzWs6w"
      },
      "source": [
        "## **2. Python Program to demonstrate finally**"
      ]
    },
    {
      "cell_type": "code",
      "execution_count": null,
      "metadata": {
        "id": "1BPJ2FFzWs6x"
      },
      "outputs": [],
      "source": [
        "try:\n",
        "    x = int(input(\"Enter a number: \"))\n",
        "    y = int(input(\"Enter another number: \"))\n",
        "    result = x / y\n",
        "except ZeroDivisionError:\n",
        "    print(\"Error: Cannot divide by zero!\")\n",
        "else:\n",
        "    print(f\"The result of {x} divided by {y} is {result}\")\n",
        "finally:\n",
        "    print(\"This will always execute, regardless of whether an exception was raised or not.\")\n"
      ]
    },
    {
      "cell_type": "markdown",
      "metadata": {
        "id": "r0oXM0COWs6y"
      },
      "source": [
        "## **3. Python Program to depict Raising Exception**"
      ]
    },
    {
      "cell_type": "code",
      "execution_count": null,
      "metadata": {
        "id": "o9rgEZ-eWs6y"
      },
      "outputs": [],
      "source": [
        "def divide(a, b):\n",
        "    if b == 0:\n",
        "        raise ZeroDivisionError(\"Cannot divide by zero!\")\n",
        "    else:\n",
        "        return a / b\n",
        "\n",
        "try:\n",
        "    result = divide(10, 0)\n",
        "except ZeroDivisionError as e:\n",
        "    print(e)\n",
        "else:\n",
        "    print(f\"The result is {result}\")\n"
      ]
    },
    {
      "cell_type": "markdown",
      "metadata": {
        "id": "p4JjYSQ4Ws6z"
      },
      "source": [
        "## **4. Python Program using assertions**"
      ]
    },
    {
      "cell_type": "code",
      "execution_count": null,
      "metadata": {
        "id": "zNgb09ltWs60"
      },
      "outputs": [],
      "source": [
        "def calculate_discount(price, discount):\n",
        "    assert 0 <= discount <= 100, \"Discount should be between 0 and 100\"\n",
        "    discounted_price = price * (1 - discount/100)\n",
        "    return discounted_price\n",
        "\n",
        "print(calculate_discount(100, 20)) # Output: 80.0\n",
        "print(calculate_discount(100, -20)) # Output: AssertionError: Discount should be between 0 and 100"
      ]
    },
    {
      "cell_type": "markdown",
      "metadata": {
        "id": "Mqjw8sZUWs61"
      },
      "source": [
        "# **Practical 05**\n",
        "\n",
        "**Develop programs to demonstrate use of NumPy**\n",
        "\n",
        "Refer : https://numpy.org/doc/stable/user/quickstart.html\n",
        "\n",
        "1. Print Numpy version and configuration information.\n",
        "2. Create a numpy array with numbers ranging from 50 to 100.Also print attributes of created object.\n",
        "3. Create a null vector of size 10.\n",
        "4. Create a vector of size 10 initialized with random integers with a seed equal to last four digits of your enrolment number.\n",
        "5. Create a matrix of size 5x5 initialized with random integers with a seed equal to last four digits of your enrolment number.\n",
        "6. Create an identity matrix of size 5x5.\n",
        "7. Do the following\n",
        "    * Create a numpy array mat1 of size 5x2 with numbers ranging from 1 to 10.\n",
        "    * Create another numpy array mat2 of size 2x5 with floating point numbers between 10 to 20.\n",
        "    * Calculate the matrix product of mat1 and mat2.\n",
        "    * Print vector containing minimum and maximum in each row of mat1.\n",
        "    * Print vector containing mean and standard deviation in each column of mat2.\n",
        "    * Perform vstack and hstack on mat1 and mat2.\n",
        "    * Split mat1 horizontal into 2 and split mat2 vertical into 2 parts.\n",
        "8. Create a vector vec of size 20 initialized with double numbers ranging from 20 to 40 and do the following.\n",
        "    * Reshape it to a 5x4 matrix mat.\n",
        "    * Print every 4th element of vec.\n",
        "    * Print elements of vec less than or equal to 25.\n",
        "    * In vec assign every number at even location to 1.\n",
        "    * In vec assign from start position to 10th position every second element to 0.\n",
        "    * Reverse elements of vec.\n",
        "    * In mat print each row in the second column and print each column in the second row.\n",
        "    * Apply some universal functions such as sin,sqrt,cos,exp on vec.\n",
        "    * Print transpose and inverse of mat.\n",
        "9. Demonstrate shallow copy and deep copy.\n",
        "\n",
        "-----"
      ]
    },
    {
      "cell_type": "markdown",
      "metadata": {
        "id": "z-YAeR0YWs61"
      },
      "source": [
        "## **1. Print Numpy version and configuration information.**"
      ]
    },
    {
      "cell_type": "code",
      "execution_count": null,
      "metadata": {
        "id": "9azaFZACWs63"
      },
      "outputs": [],
      "source": [
        "import numpy as np\n",
        "\n",
        "print(\"NumPy version:\", np.__version__)\n",
        "print(\"\\nNumPy configuration:\")\n",
        "np.show_config()"
      ]
    },
    {
      "cell_type": "markdown",
      "metadata": {
        "id": "SpXpEdh8Ws64"
      },
      "source": [
        "## **2. Create a numpy array with numbers ranging from 50 to 100.Also print attributes of created object.**"
      ]
    },
    {
      "cell_type": "code",
      "execution_count": null,
      "metadata": {
        "id": "2iEcy1esWs65"
      },
      "outputs": [],
      "source": [
        "arr = np.arange(50, 101)\n",
        "print(arr)\n",
        "print(\"Shape of array:\", arr.shape)\n",
        "print(\"Data type of array elements:\", arr.dtype)\n",
        "print(\"Number of dimensions of array:\", arr.ndim)"
      ]
    },
    {
      "cell_type": "markdown",
      "metadata": {
        "id": "iDVhjQGkWs65"
      },
      "source": [
        "## **3. Create a null vector of size 10.**"
      ]
    },
    {
      "cell_type": "code",
      "execution_count": null,
      "metadata": {
        "id": "djRBgu5NWs66"
      },
      "outputs": [],
      "source": [
        "null_vector = np.zeros(10)\n",
        "print(null_vector)"
      ]
    },
    {
      "cell_type": "markdown",
      "metadata": {
        "id": "wK90Q18bWs66"
      },
      "source": [
        "## **4. Create a vector of size 10 initialized with random integers with a seed equal to last four digits of your enrolment number.**"
      ]
    },
    {
      "cell_type": "code",
      "execution_count": null,
      "metadata": {
        "id": "E0ugaG92Ws67"
      },
      "outputs": [],
      "source": [
        "np.random.seed(7133)\n",
        "random_vector = np.random.randint(0, 100, size=10)\n",
        "print(random_vector)"
      ]
    },
    {
      "cell_type": "markdown",
      "metadata": {
        "id": "0XkdlkyHWs68"
      },
      "source": [
        "## **5. Create a matrix of size 5x5 initialized with random integers with a seed equal to last four digits of your enrolment number.**"
      ]
    },
    {
      "cell_type": "code",
      "execution_count": null,
      "metadata": {
        "id": "koVHPJPpWs68"
      },
      "outputs": [],
      "source": [
        "np.random.seed(7133)\n",
        "matrix = np.random.randint(0, 100, size=(5, 5))\n",
        "print(matrix)"
      ]
    },
    {
      "cell_type": "markdown",
      "metadata": {
        "id": "yrU8BrB0Ws68"
      },
      "source": [
        "## **6. Create an identity matrix of size 5x5.**"
      ]
    },
    {
      "cell_type": "code",
      "execution_count": null,
      "metadata": {
        "id": "2FnIU3BtWs69"
      },
      "outputs": [],
      "source": [
        "identity_matrix = np.identity(5)\n",
        "print(identity_matrix)"
      ]
    },
    {
      "cell_type": "markdown",
      "metadata": {
        "id": "JjG9RBRjWs6-"
      },
      "source": [
        "## **7. Do the following**"
      ]
    },
    {
      "cell_type": "markdown",
      "metadata": {
        "id": "_vE9YJu2Ws6-"
      },
      "source": [
        "### **Create a numpy array mat1 of size 5x2 with numbers ranging from 1 to 10.**"
      ]
    },
    {
      "cell_type": "code",
      "execution_count": null,
      "metadata": {
        "id": "1IW24bqXWs6_"
      },
      "outputs": [],
      "source": [
        "mat1 = np.arange(1, 11).reshape(5, 2)\n",
        "print(mat1)"
      ]
    },
    {
      "cell_type": "markdown",
      "metadata": {
        "id": "ePh1-U-FWs6_"
      },
      "source": [
        "### **Create another numpy array mat2 of size 2x5 with floating point numbers between 10 to 20.**"
      ]
    },
    {
      "cell_type": "code",
      "execution_count": null,
      "metadata": {
        "id": "CuUT3ogZWs7A"
      },
      "outputs": [],
      "source": [
        "mat2 = np.random.uniform(10, 20, size=(2, 5))\n",
        "print(mat2)"
      ]
    },
    {
      "cell_type": "markdown",
      "metadata": {
        "id": "YEnFpJXQWs7B"
      },
      "source": [
        "### **Calculate the matrix product of mat1 and mat2.**"
      ]
    },
    {
      "cell_type": "code",
      "execution_count": null,
      "metadata": {
        "id": "Eb4RCJQEWs7B"
      },
      "outputs": [],
      "source": [
        "mat1 = np.arange(1, 11).reshape(5, 2)\n",
        "mat2 = np.random.uniform(10, 20, size=(2, 5))\n",
        "\n",
        "mat_product = np.dot(mat1, mat2)\n",
        "print(mat_product)"
      ]
    },
    {
      "cell_type": "markdown",
      "metadata": {
        "id": "7HHtNyNVWs7C"
      },
      "source": [
        "### **Print vector containing minimum and maximum in each row of mat1.**"
      ]
    },
    {
      "cell_type": "code",
      "execution_count": null,
      "metadata": {
        "id": "Y4fFPKFFWs7C"
      },
      "outputs": [],
      "source": [
        "mat1 = np.arange(1, 11).reshape(5, 2)\n",
        "\n",
        "min_max_vec = np.column_stack((np.min(mat1, axis=1), np.max(mat1, axis=1)))\n",
        "print(min_max_vec)"
      ]
    },
    {
      "cell_type": "markdown",
      "metadata": {
        "id": "eS2meio8Ws7C"
      },
      "source": [
        "### **Print vector containing mean and standard deviation in each column of mat2.**"
      ]
    },
    {
      "cell_type": "code",
      "execution_count": null,
      "metadata": {
        "id": "nKdSfQ7VWs7D"
      },
      "outputs": [],
      "source": [
        "mat2 = np.random.uniform(10, 20, size=(2, 5))\n",
        "\n",
        "mean_std_vec = np.column_stack((np.mean(mat2, axis=0), np.std(mat2, axis=0)))\n",
        "print(mean_std_vec)"
      ]
    },
    {
      "cell_type": "markdown",
      "metadata": {
        "id": "v8NDOEtTWs7E"
      },
      "source": [
        "### **Perform vstack and hstack on mat1 and mat2.**"
      ]
    },
    {
      "cell_type": "code",
      "execution_count": null,
      "metadata": {
        "id": "yDc1ISeUWs7E"
      },
      "outputs": [],
      "source": [
        "mat1 = np.arange(1, 11).reshape(5, 2)\n",
        "mat2 = np.random.uniform(10, 20, size=(2, 5))\n",
        "\n",
        "# Vertical stack\n",
        "vstacked = np.vstack((mat1, mat2))\n",
        "print(\"Vertically stacked matrix:\\n\", vstacked)\n",
        "\n",
        "# Horizontal stack\n",
        "hstacked = np.hstack((mat1, mat2))\n",
        "print(\"\\nHorizontally stacked matrix:\\n\", hstacked)"
      ]
    },
    {
      "cell_type": "markdown",
      "metadata": {
        "id": "gXgbqcerWs7J"
      },
      "source": [
        "### **Split mat1 horizontal into 2 and split mat2 vertical into 2 parts.**"
      ]
    },
    {
      "cell_type": "code",
      "execution_count": null,
      "metadata": {
        "id": "9xmh4z58Ws7K"
      },
      "outputs": [],
      "source": [
        "mat1 = np.arange(1, 11).reshape(5, 2)\n",
        "mat2 = np.random.uniform(10, 20, size=(2, 5))\n",
        "\n",
        "# Split mat1 horizontally into 2\n",
        "mat1_split_h = np.hsplit(mat1, 2)\n",
        "print(\"mat1 split horizontally into 2:\\n\", mat1_split_h)\n",
        "\n",
        "# Split mat2 vertically into 2\n",
        "mat2_split_v = np.vsplit(mat2, 2)\n",
        "print(\"\\nmat2 split vertically into 2:\\n\", mat2_split_v)"
      ]
    },
    {
      "cell_type": "markdown",
      "metadata": {
        "id": "btiWqWDJWs7L"
      },
      "source": [
        "## **8. Create a vector vec of size 20 initialized with double numbers ranging from 20 to 40 and do the following.**"
      ]
    },
    {
      "cell_type": "code",
      "execution_count": null,
      "metadata": {
        "id": "JzI4v1xqWs7L"
      },
      "outputs": [],
      "source": [
        "import numpy as np\n",
        "\n",
        "# Create vector vec of size 20 initialized with double numbers ranging from 20 to 40\n",
        "vec = np.linspace(20, 40, 20, dtype=np.float64)"
      ]
    },
    {
      "cell_type": "markdown",
      "metadata": {
        "id": "mEAHYGITWs7M"
      },
      "source": [
        "### **Reshape it to a 5x4 matrix mat.**"
      ]
    },
    {
      "cell_type": "code",
      "execution_count": null,
      "metadata": {
        "id": "G2Ca8Z3bWs7N"
      },
      "outputs": [],
      "source": [
        "# Reshape vec to a 5x4 matrix mat\n",
        "mat = vec.reshape(5, 4)"
      ]
    },
    {
      "cell_type": "markdown",
      "metadata": {
        "id": "qVSF01J6Ws7O"
      },
      "source": [
        "### **Print every 4th element of vec.**"
      ]
    },
    {
      "cell_type": "code",
      "execution_count": null,
      "metadata": {
        "id": "qcJEOzCXWs7O"
      },
      "outputs": [],
      "source": [
        "# Print every 4th element of vec\n",
        "print(vec[3::4])"
      ]
    },
    {
      "cell_type": "markdown",
      "metadata": {
        "id": "hqKRPW6PWs7P"
      },
      "source": [
        "### **Print elements of vec less than or equal to 25.**"
      ]
    },
    {
      "cell_type": "code",
      "execution_count": null,
      "metadata": {
        "id": "X7S692e9Ws7Q"
      },
      "outputs": [],
      "source": [
        "# Print elements of vec less than or equal to 25\n",
        "print(vec[vec <= 25])"
      ]
    },
    {
      "cell_type": "markdown",
      "metadata": {
        "id": "JoCQ8SstWs7R"
      },
      "source": [
        "### **In vec assign every number at even location to 1.**"
      ]
    },
    {
      "cell_type": "code",
      "execution_count": null,
      "metadata": {
        "id": "d9VIXvYAWs7R"
      },
      "outputs": [],
      "source": [
        "# In vec assign every number at even location to 1\n",
        "vec[1::2] = 1"
      ]
    },
    {
      "cell_type": "markdown",
      "metadata": {
        "id": "Nz_0bcr-Ws7S"
      },
      "source": [
        "### **In vec assign from start position to 10th position every second element to 0.**"
      ]
    },
    {
      "cell_type": "code",
      "execution_count": null,
      "metadata": {
        "id": "IWgr1uYwWs7T"
      },
      "outputs": [],
      "source": [
        "# In vec assign from start position to 10th position every second element to 0\n",
        "vec[:10:2] = 0"
      ]
    },
    {
      "cell_type": "markdown",
      "metadata": {
        "id": "Wd3ttGLoWs7T"
      },
      "source": [
        "### **Reverse elements of vec.**"
      ]
    },
    {
      "cell_type": "code",
      "execution_count": null,
      "metadata": {
        "id": "ZwEVX_iIWs7U"
      },
      "outputs": [],
      "source": [
        "# Reverse elements of vec\n",
        "vec = vec[::-1]"
      ]
    },
    {
      "cell_type": "markdown",
      "metadata": {
        "id": "b5kw123-Ws7V"
      },
      "source": [
        "### **In mat print each row in the second column and print each column in the second row.**"
      ]
    },
    {
      "cell_type": "code",
      "execution_count": null,
      "metadata": {
        "id": "h7lAkzPZWs7V"
      },
      "outputs": [],
      "source": [
        "# In mat print each row in the second column and print each column in the second row\n",
        "print(mat[:, 1])\n",
        "print(mat[1, :])"
      ]
    },
    {
      "cell_type": "markdown",
      "metadata": {
        "id": "6wrOH7V8Ws7X"
      },
      "source": [
        "### **Apply some universal functions such as sin, sqrt, cos, exp on vec.**"
      ]
    },
    {
      "cell_type": "code",
      "execution_count": null,
      "metadata": {
        "id": "jqCC0TWGWs7Z"
      },
      "outputs": [],
      "source": [
        "# Apply some universal functions such as sin,sqrt,cos,exp on vec\n",
        "print(np.sin(vec))\n",
        "print(np.sqrt(vec))\n",
        "print(np.cos(vec))\n",
        "print(np.exp(vec))"
      ]
    },
    {
      "cell_type": "markdown",
      "metadata": {
        "id": "mf8Uf6wfWs7a"
      },
      "source": [
        "### **Print transpose and inverse of mat.**"
      ]
    },
    {
      "cell_type": "code",
      "execution_count": null,
      "metadata": {
        "id": "Qg6ePQPgWs7b"
      },
      "outputs": [],
      "source": [
        "# Print transpose and inverse of mat\n",
        "print(mat.T)\n",
        "print(np.linalg.inv(mat))"
      ]
    },
    {
      "cell_type": "markdown",
      "metadata": {
        "id": "5H4GlbJcWs7b"
      },
      "source": [
        "## **9. Demonstrate shallow copy and deep copy.**"
      ]
    },
    {
      "cell_type": "code",
      "execution_count": null,
      "metadata": {
        "id": "8OqxNdFoWs7c"
      },
      "outputs": [],
      "source": [
        "import copy\n",
        "\n",
        "# Create a list of lists\n",
        "original_list = [[1, 2, 3], [4, 5, 6], [7, 8, 9]]\n",
        "\n",
        "# Shallow copy\n",
        "shallow_copy = copy.copy(original_list)\n",
        "\n",
        "# Deep copy\n",
        "deep_copy = copy.deepcopy(original_list)\n",
        "\n",
        "# Modify the original list\n",
        "original_list[0][0] = 0\n",
        "\n",
        "# Print the original list, shallow copy, and deep copy\n",
        "print(\"Original list:\", original_list)\n",
        "print(\"Shallow copy:\", shallow_copy)\n",
        "print(\"Deep copy:\", deep_copy)"
      ]
    },
    {
      "cell_type": "markdown",
      "metadata": {
        "id": "g8OepdMQWs7c"
      },
      "source": [
        "# **Practical 06**\n",
        "\n",
        "**Python File Handling to load text &amp; image data**\n",
        "1. Create File with two columns X1 and Y1. Generate 20 rows with random data for values of X1 and Y1.\n",
        "2. Demonstrate concept of streaming and sampling using above generated file. Fetch every even record from file and Fetch any 5 random records from file to demonstrate sampling.\n",
        "3. Download and load image data from the following URL. https://unsplash.com/photos/pypeCEaJeZY\n",
        "\n",
        "-----"
      ]
    },
    {
      "cell_type": "markdown",
      "metadata": {
        "id": "Kji7twydWs7d"
      },
      "source": [
        "## **1. Create File with two columns X1 and Y1. Generate 20 rows with random data for values of X1 and Y1.**"
      ]
    },
    {
      "cell_type": "code",
      "execution_count": null,
      "metadata": {
        "id": "Pq0pgmA-Ws7d"
      },
      "outputs": [],
      "source": [
        "import pandas as pd\n",
        "import numpy as np\n",
        "\n",
        "# Generate 20 random numbers for X1 and Y1\n",
        "X1 = np.random.rand(20)\n",
        "Y1 = np.random.rand(20)\n",
        "\n",
        "# Create a DataFrame\n",
        "df = pd.DataFrame({'X1': X1, 'Y1': Y1})\n",
        "\n",
        "# Save the DataFrame to a csv file\n",
        "df.to_csv('data.csv', index=False)"
      ]
    },
    {
      "cell_type": "code",
      "execution_count": null,
      "metadata": {
        "id": "ddjkDexZWs7e"
      },
      "outputs": [],
      "source": [
        "# Read the csv file\n",
        "df = pd.read_csv('data.csv')\n",
        "\n",
        "# Display the data\n",
        "print(df)"
      ]
    },
    {
      "cell_type": "markdown",
      "metadata": {
        "id": "0kqIWDKeWs7f"
      },
      "source": [
        "## **2. Demonstrate concept of streaming and sampling using above generated file. Fetch every even record from file and Fetch any 5 random records from file to demonstrate sampling.**"
      ]
    },
    {
      "cell_type": "code",
      "execution_count": null,
      "metadata": {
        "id": "2R1E8PAuWs7f"
      },
      "outputs": [],
      "source": [
        "# Read the csv file\n",
        "df = pd.read_csv('data.csv')\n",
        "\n",
        "# Fetch every even record from the file\n",
        "even_records = df[df.index % 2 == 0]\n",
        "print(\"Even records:\\n\", even_records)\n",
        "\n",
        "# Fetch any 5 random records from the file\n",
        "random_records = df.sample(n=5)\n",
        "print(\"\\nRandom records:\\n\", random_records)"
      ]
    },
    {
      "cell_type": "markdown",
      "metadata": {
        "id": "hnZ9W7DpWs7g"
      },
      "source": [
        "## **3. Download and load image data from the following URL. https://unsplash.com/photos/pypeCEaJeZY**"
      ]
    },
    {
      "cell_type": "code",
      "execution_count": null,
      "metadata": {
        "id": "ZiwYcOTmWs7g"
      },
      "outputs": [],
      "source": [
        "import requests\n",
        "from PIL import Image\n",
        "from io import BytesIO\n",
        "from IPython.display import display\n",
        "\n",
        "# URL of the image\n",
        "url = \"https://images.unsplash.com/photo-1542744173-05336fcc7ad4\"\n",
        "\n",
        "# Send a HTTP request to the URL of the image\n",
        "response = requests.get(url)\n",
        "\n",
        "# Load the image\n",
        "img = Image.open(BytesIO(response.content))\n",
        "\n",
        "# Display the image\n",
        "display(img)"
      ]
    },
    {
      "cell_type": "markdown",
      "metadata": {
        "id": "dTmCnCbNWs7h"
      },
      "source": [
        "# **Practical 07**\n",
        "\n",
        "**Develop Programs to demonstrate use of Pandas for Conditioning Your Data**\n",
        "\n",
        "URL for `test.xml` file.\n",
        "https://drive.google.com/file/d/1FqOWhY2XNYkHwCBYOjhAILCzVUo9QEp6\n",
        "\n",
        "URL for `indian_food.csv` file.\n",
        "https://drive.google.com/file/d/1CNAdqFZ-Amji8kOMd4GovivK8UKVLQ-p\n",
        "\n",
        "1.  Read the xml file `test.xml` and create a dataframe from it and do the following.\n",
        "    *   Find and print duplicate records.\n",
        "    *   Remove duplicates and save data in other dataframe.\n",
        "2.  Read the csv file `indian_food.csv`. Consider value -1 for missing or NA values.(Replace -1 with NaN when reading a csv file.)\n",
        "    *   Print the first and last 10 records of dataframe, also print column names and summary of data. Print information about data such as data types of each column.\n",
        "    *   Convert columns with name course,diet,flavor_profile,state,region to categorical data type &amp; print data type for dataframe using info function.\n",
        "    *   Categories are defined as follows.\n",
        "          > Course ['dessert' 'main course' 'starter' 'snack']\n",
        "          >\n",
        "          > Flavor_profile ['sweet' 'spicy' 'bitter' 'sour']\n",
        "          >\n",
        "          > State ['West Bengal' 'Rajasthan' 'Punjab' 'Uttar Pradesh' 'Odisha' 'Maharashtra' 'Uttarakhand' 'Assam' 'Bihar' 'Andhra Pradesh' 'Karnataka' 'Telangana' 'Kerala' 'Tamil Nadu' 'Gujarat' 'Tripura' 'Manipur' 'Nagaland' 'NCT of Delhi' 'Jammu & Kashmir' 'Chhattisgarh' 'Haryana' 'MadhyaPradesh' 'Goa']\n",
        "          >\n",
        "          > Region ['East' 'West' 'North' nan 'North East' 'South' 'Central']\n",
        "    *   Print name of items with course as dessert.\n",
        "    *   Print count of items with flavor_profile with sweet type.\n",
        "    *   Print name of items with cooking_time < prep_time.\n",
        "    *   Print summary of data grouped by diet column.\n",
        "    *   Print average cooking_time & prep_time for vegetarian diet type.\n",
        "    *   Insert a new column with column name as total_time which contains sum of cooking_time & prep_time into existing dataframe.\n",
        "    *   Print name,cooking_time,prep_time,total_time of items with total_time >=500\n",
        "    *   Print count of items with various flavour_profile per region.\n",
        "    *   Find & print records with missing data in the state column.\n",
        "    *   Fill missing data in the state column with -.\n",
        "3.    Write regular expression,\n",
        "      > To extract phone numbers (+dd-dddd-dddd) from the following text\n",
        "      >\n",
        "      > “Hey my number is +01-555-1212 & his number is +01-770-1410”\n",
        "      >\n",
        "      > To extract email addresses from the following text.\n",
        "      >\n",
        "      > “You can contact to abcd@gmail.co.in or to xyzw@yahoo.in”\n",
        "4.  Demonstrate stemming & stop word removal using nltk library for content given below\n",
        "      >   Most of the world will make decisions by either guessing or using their gut. They will beeither lucky or wrong.\n",
        "      >\n",
        "      >   The goal is to turn data into information and information into insight.\n",
        "5.  Using a 20 newsgroup dataset, create and demonstrate a bag of words model.Also convert theraw newsgroup documents into a matrix of TF-IDF feature.\n",
        "\n",
        "-----"
      ]
    },
    {
      "cell_type": "markdown",
      "metadata": {
        "id": "ElMRXhISWs7i"
      },
      "source": [
        "## **1.  Read the xml file `test.xml` and create a dataframe from it and do the following.**"
      ]
    },
    {
      "cell_type": "markdown",
      "metadata": {
        "id": "TbBffoMuWs7i"
      },
      "source": [
        "### **Find and print duplicate records.**"
      ]
    },
    {
      "cell_type": "code",
      "execution_count": null,
      "metadata": {
        "id": "oEU44QaMWs7j"
      },
      "outputs": [],
      "source": [
        "import pandas as pd  # Importing pandas library for data manipulation and analysis\n",
        "import xml.etree.ElementTree as ET  # Importing ElementTree from xml.etree for parsing and creating XML data\n",
        "tree = ET.parse('test.xml')  # Parsing the XML file\n",
        "root = tree.getroot()  # Getting the root element of the XML document\n",
        "data = []  # Initializing an empty list to store the data\n",
        "for record in root:  # Iterating over each record in the root element\n",
        "    row = {}  # Initializing an empty dictionary to store each row of data\n",
        "    for item in record:  # Iterating over each item in the record\n",
        "        row[item.tag] = item.text  # Adding the item's tag as the key and the item's text as the value to the row dictionary\n",
        "    data.append(row)  # Appending the row dictionary to the data list\n",
        "df = pd.DataFrame(data)  # Creating a DataFrame from the data list\n",
        "print(df)  # Printing the DataFrame"
      ]
    },
    {
      "cell_type": "markdown",
      "metadata": {
        "id": "X7rKZasuWs7j"
      },
      "source": [
        "### **Remove duplicates and save data in other dataframe.**"
      ]
    },
    {
      "cell_type": "code",
      "execution_count": null,
      "metadata": {
        "id": "KJv7S6JMWs7k"
      },
      "outputs": [],
      "source": [
        "duplicates = df[df.duplicated()]  # Finding duplicate rows in the DataFrame\n",
        "print(\"Duplicate Records:\")  # Printing a string for clarity\n",
        "print(duplicates)  # Printing the duplicate rows\n",
        "df_no_duplicates = df.drop_duplicates()  # Removing duplicate rows from the DataFrame\n",
        "print(\"DataFrame without Duplicates:\")  # Printing a string for clarity\n",
        "print(df_no_duplicates)  # Printing the DataFrame without duplicates"
      ]
    },
    {
      "cell_type": "markdown",
      "metadata": {
        "id": "D-OjKOWhWs7k"
      },
      "source": [
        "##  **2.  Read the csv file `indian_food.csv`. Consider value -1 for missing or NA values.(Replace -1 with NaN when reading a csv file.)**"
      ]
    },
    {
      "cell_type": "code",
      "execution_count": null,
      "metadata": {
        "id": "yr6bdRpoWs7l"
      },
      "outputs": [],
      "source": [
        "import pandas as pd\n",
        "\n",
        "# Read the CSV file\n",
        "df_csv = pd.read_csv('indian_food.csv', na_values=-1)"
      ]
    },
    {
      "cell_type": "markdown",
      "metadata": {
        "id": "i4ij_FrPWs7l"
      },
      "source": [
        "### **Print the first and last 10 records of dataframe, also print column names and summary of data. Print information about data such as data types of each column.**"
      ]
    },
    {
      "cell_type": "code",
      "execution_count": null,
      "metadata": {
        "id": "rgPbLL4jWs7m"
      },
      "outputs": [],
      "source": [
        "# Print the first 10 records\n",
        "print(df_csv.head(10))\n",
        "\n",
        "# Print the last 10 records\n",
        "print(df_csv.tail(10))\n",
        "\n",
        "# Print column names\n",
        "print(df_csv.columns)\n",
        "\n",
        "# Print summary of data\n",
        "print(df_csv.describe(include='all'))\n",
        "\n",
        "# Print information about data\n",
        "print(df_csv.info())"
      ]
    },
    {
      "cell_type": "markdown",
      "metadata": {
        "id": "85W4sChAWs7n"
      },
      "source": [
        "### **Convert columns with name course,diet,flavor_profile,state,region to categorical data type &amp; print data type for dataframe using info function.**"
      ]
    },
    {
      "cell_type": "code",
      "execution_count": null,
      "metadata": {
        "id": "f7IfQn1kWs7n"
      },
      "outputs": [],
      "source": [
        "# Define a list of column names that we want to convert to 'category' data type.\n",
        "columns_to_convert = ['course', 'diet', 'flavor_profile', 'state', 'region']\n",
        "\n",
        "# Convert the data type of the specified columns to 'category'.\n",
        "df_csv[columns_to_convert] = df_csv[columns_to_convert].astype('category')\n",
        "\n",
        "# Print the string \"Data Types (After Conversion):\" to the console.\n",
        "print(\"Data Types (After Conversion):\")\n",
        "\n",
        "# Print the data types of the columns in the DataFrame to the console, after the conversion.\n",
        "print(df_csv.dtypes)"
      ]
    },
    {
      "cell_type": "markdown",
      "metadata": {
        "id": "Znbk0s51Ws7o"
      },
      "source": [
        "### **Categories are defined as follows.**\n",
        "> Course ['dessert' 'main course' 'starter' 'snack']\n",
        ">\n",
        "> Flavor_profile ['sweet' 'spicy' 'bitter' 'sour']\n",
        ">\n",
        "> State ['West Bengal' 'Rajasthan' 'Punjab' 'Uttar Pradesh' 'Odisha' 'Maharashtra' 'Uttarakhand' 'Assam' 'Bihar' 'Andhra Pradesh' 'Karnataka' 'Telangana' 'Kerala' 'Tamil Nadu' 'Gujarat' 'Tripura' 'Manipur' 'Nagaland' 'NCT of Delhi' 'Jammu & Kashmir' 'Chhattisgarh' 'Haryana' 'MadhyaPradesh' 'Goa']\n",
        ">\n",
        "> Region ['East' 'West' 'North' nan 'North East' 'South' 'Central']"
      ]
    },
    {
      "cell_type": "code",
      "execution_count": null,
      "metadata": {
        "id": "zCqxfkZ4Ws7p"
      },
      "outputs": [],
      "source": [
        "# Define a dictionary where the keys are column names and the values are lists of categories for each column.\n",
        "category_definitions = {\n",
        "    'course': ['dessert', 'main course', 'starter', 'snack'],\n",
        "    'flavor_profile': ['sweet', 'spicy', 'bitter', 'sour'],\n",
        "    'state': [\n",
        "        'West Bengal', 'Rajasthan', 'Punjab', 'Uttar Pradesh', 'Odisha',\n",
        "        'Maharashtra', 'Uttarakhand', 'Assam', 'Bihar', 'Andhra Pradesh',\n",
        "        'Karnataka', 'Telangana', 'Kerala', 'Tamil Nadu', 'Gujarat',\n",
        "        'Tripura', 'Manipur', 'Nagaland', 'NCT of Delhi',\n",
        "        'Jammu & Kashmir', 'Chhattisgarh', 'Haryana', 'Madhya Pradesh', 'Goa'\n",
        "    ],\n",
        "    'region': ['East', 'West', 'North', 'North East', 'South', 'Central']\n",
        "}\n",
        "\n",
        "# Loop over the items in the dictionary.\n",
        "for column, categories in category_definitions.items():\n",
        "    # Assert that all categories are in the categories of the column in the DataFrame.\n",
        "    assert all(cat in df_csv[column].cat.categories for cat in categories)\n",
        "\n",
        "# Print the last column name to the console.\n",
        "print(column)\n",
        "\n",
        "# Print the last list of categories to the console.\n",
        "print(categories)"
      ]
    },
    {
      "cell_type": "markdown",
      "metadata": {
        "id": "CVRZ50d4Ws7q"
      },
      "source": [
        "### **Print name of items with course as dessert.**"
      ]
    },
    {
      "cell_type": "code",
      "execution_count": null,
      "metadata": {
        "id": "QOI6L2PYWs7r"
      },
      "outputs": [],
      "source": [
        "# Filter the DataFrame to only include rows where the 'course' column is 'dessert'.\n",
        "desserts = df_csv[df_csv['course'] == 'dessert']\n",
        "\n",
        "# Print the string \"Dessert Items:\" to the console.\n",
        "print(\"Dessert Items:\")\n",
        "\n",
        "# Print the 'name' column of the filtered DataFrame to the console.\n",
        "print(desserts['name'])"
      ]
    },
    {
      "cell_type": "markdown",
      "metadata": {
        "id": "T3p_RhzQWs7r"
      },
      "source": [
        "### **Print count of items with flavor_profile with sweet type.**"
      ]
    },
    {
      "cell_type": "code",
      "execution_count": null,
      "metadata": {
        "id": "tvBQ650fWs7s"
      },
      "outputs": [],
      "source": [
        "# Filter the DataFrame to only include rows where the 'flavor_profile' column is 'sweet'.\n",
        "sweet_items = df_csv[df_csv['flavor_profile'] == 'sweet']\n",
        "\n",
        "# Print the string \"Count of Sweet Items:\" and the number of sweet items to the console.\n",
        "print(\"Count of Sweet Items:\", len(sweet_items))"
      ]
    },
    {
      "cell_type": "markdown",
      "metadata": {
        "id": "dhzJ6ESwWs7s"
      },
      "source": [
        "### **Print name of items with cooking_time < prep_time.**"
      ]
    },
    {
      "cell_type": "code",
      "execution_count": null,
      "metadata": {
        "id": "NwpqsLQ2Ws7t"
      },
      "outputs": [],
      "source": [
        "# Filter the DataFrame to only include rows where the 'cooking_time' column is less than the 'prep_time' column.\n",
        "fast_cooking_items = df_csv[df_csv['cooking_time'] < df_csv['prep_time']]\n",
        "\n",
        "# Print the string \"Items with Cooking Time < Prep Time:\" to the console.\n",
        "print(\"Items with Cooking Time < Prep Time:\")\n",
        "\n",
        "# Print the 'name' column of the filtered DataFrame to the console.\n",
        "print(fast_cooking_items['name'])"
      ]
    },
    {
      "cell_type": "markdown",
      "metadata": {
        "id": "1XEKlF_2Ws7t"
      },
      "source": [
        "### **Print summary of data grouped by diet column.**"
      ]
    },
    {
      "cell_type": "code",
      "execution_count": null,
      "metadata": {
        "id": "ufe8SGQDWs7t"
      },
      "outputs": [],
      "source": [
        "# Group the DataFrame by the 'diet' column and calculate summary statistics for each group.\n",
        "diet_summary = df_csv.groupby('diet').describe()\n",
        "\n",
        "# Print the string \"Summary of Data Grouped by Diet:\" to the console.\n",
        "print(\"Summary of Data Grouped by Diet:\")\n",
        "\n",
        "# Print the summary statistics of the grouped DataFrame to the console.\n",
        "print(diet_summary)"
      ]
    },
    {
      "cell_type": "markdown",
      "metadata": {
        "id": "4twRXoJKWs7u"
      },
      "source": [
        "### **Print average cooking_time & prep_time for vegetarian diet type.**"
      ]
    },
    {
      "cell_type": "code",
      "execution_count": null,
      "metadata": {
        "id": "LUvg8uGUWs7v"
      },
      "outputs": [],
      "source": [
        "# Filter the DataFrame to only include rows where the 'diet' column is 'vegetarian'.\n",
        "vegetarian_diet = df_csv[df_csv['diet'] == 'vegetarian']\n",
        "\n",
        "# Calculate the mean of the 'cooking_time' column for the filtered DataFrame.\n",
        "average_cooking_time = vegetarian_diet['cooking_time'].mean()\n",
        "\n",
        "# Calculate the mean of the 'prep_time' column for the filtered DataFrame.\n",
        "average_prep_time = vegetarian_diet['prep_time'].mean()\n",
        "\n",
        "# Print the string \"Average Cooking Time for Vegetarian Diet:\" and the average cooking time to the console.\n",
        "print(\"Average Cooking Time for Vegetarian Diet:\", average_cooking_time)\n",
        "\n",
        "# Print the string \"Average Prep Time for Vegetarian Diet:\" and the average preparation time to the console.\n",
        "print(\"Average Prep Time for Vegetarian Diet:\", average_prep_time)"
      ]
    },
    {
      "cell_type": "markdown",
      "metadata": {
        "id": "gRlIV-dkWs7v"
      },
      "source": [
        "### **Insert a new column with column name as total_time which contains sum of cooking_time & prep_time into existing dataframe.**"
      ]
    },
    {
      "cell_type": "code",
      "execution_count": null,
      "metadata": {
        "id": "aS1V0ttYWs7w"
      },
      "outputs": [],
      "source": [
        "# Add the 'cooking_time' and 'prep_time' columns to create a new 'total_time' column in the DataFrame.\n",
        "df_csv['total_time'] = df_csv['cooking_time'] + df_csv['prep_time']"
      ]
    },
    {
      "cell_type": "markdown",
      "metadata": {
        "id": "T3hJGpgJWs7w"
      },
      "source": [
        "### **Print name,cooking_time,prep_time,total_time of items with total_time >=500**"
      ]
    },
    {
      "cell_type": "code",
      "execution_count": null,
      "metadata": {
        "id": "w8JtJbgQWs7x"
      },
      "outputs": [],
      "source": [
        "# Filter the DataFrame to only include rows where the 'total_time' column is greater than or equal to 500.\n",
        "total_time_gt_500 = df_csv[df_csv['total_time'] >= 500]\n",
        "\n",
        "# Print the string \"Items with Total Time >= 500:\" to the console.\n",
        "print(\"Items with Total Time >= 500:\")\n",
        "\n",
        "# Print the 'name', 'cooking_time', 'prep_time', and 'total_time' columns of the filtered DataFrame to the console.\n",
        "print(total_time_gt_500[['name', 'cooking_time', 'prep_time', 'total_time']])"
      ]
    },
    {
      "cell_type": "markdown",
      "metadata": {
        "id": "US3EEsshWs7y"
      },
      "source": [
        "### **Print count of items with various flavour_profile per region.**"
      ]
    },
    {
      "cell_type": "code",
      "execution_count": null,
      "metadata": {
        "id": "_MIO_bCuWs7y"
      },
      "outputs": [],
      "source": [
        "# Group the DataFrame by the 'region' and 'flavor_profile' columns, calculate the size of each group, and unstack the resulting series into a DataFrame, filling missing values with 0.\n",
        "flavor_profile_per_region = df_csv.groupby(['region', 'flavor_profile']).size().unstack(fill_value=0)\n",
        "\n",
        "# Print the string \"Count of Items with Flavor Profile per Region:\" to the console.\n",
        "print(\"Count of Items with Flavor Profile per Region:\")\n",
        "\n",
        "# Print the DataFrame of counts of items with each flavor profile per region to the console.\n",
        "print(flavor_profile_per_region)"
      ]
    },
    {
      "cell_type": "markdown",
      "metadata": {
        "id": "kzjxH34FWs7z"
      },
      "source": [
        "### **Find & print records with missing data in the state column.**"
      ]
    },
    {
      "cell_type": "code",
      "execution_count": null,
      "metadata": {
        "id": "vpjw9GujWs73"
      },
      "outputs": [],
      "source": [
        "# Filter the DataFrame to only include rows where the 'state' column is missing (NaN).\n",
        "missing_state_data = df_csv[df_csv['state'].isna()]\n",
        "\n",
        "# Print the string \"Records with Missing Data in the State Column:\" to the console.\n",
        "print(\"Records with Missing Data in the State Column:\")\n",
        "\n",
        "# Print the DataFrame of records with missing state data to the console.\n",
        "print(missing_state_data)"
      ]
    },
    {
      "cell_type": "markdown",
      "metadata": {
        "id": "a_UsphHJWs74"
      },
      "source": [
        "### **Fill missing data in the state column with -.**"
      ]
    },
    {
      "cell_type": "code",
      "execution_count": null,
      "metadata": {
        "id": "SlazjPlbWs74"
      },
      "outputs": [],
      "source": [
        "# Convert the data type of the 'state' column to string.\n",
        "df_csv['state'] = df_csv['state'].astype(str)\n",
        "\n",
        "# Fill missing values in the 'state' column with '-'.\n",
        "df_csv['state'].fillna('-', inplace=True)"
      ]
    },
    {
      "cell_type": "markdown",
      "metadata": {
        "id": "HZ66e-s-Ws75"
      },
      "source": [
        "##  **3.    Write regular expression**\n",
        "\n",
        "> To extract phone numbers (+dd-dddd-dddd) from the following text\n",
        ">\n",
        "> “Hey my number is +01-555-1212 & his number is +01-770-1410”\n",
        ">\n",
        "> To extract email addresses from the following text.\n",
        ">\n",
        "> “You can contact to abcd@gmail.co.in or to xyzw@yahoo.in”"
      ]
    },
    {
      "cell_type": "code",
      "execution_count": null,
      "metadata": {
        "id": "Jj7-u7gkWs76"
      },
      "outputs": [],
      "source": [
        "import re  # Importing the regular expression module\n",
        "\n",
        "# A string containing two phone numbers\n",
        "text = \"Hey my number is +01-555-1212 & his number is +01-770-1410\"\n",
        "\n",
        "# Using a regular expression to find all phone numbers in the string\n",
        "phone_numbers = re.findall(r'\\+\\d{2}-\\d{3}-\\d{4}', text)\n",
        "\n",
        "# Printing a message to the console\n",
        "print(\"Extracted Phone Numbers:\")\n",
        "\n",
        "# Printing the extracted phone numbers to the console\n",
        "print(phone_numbers)\n",
        "\n",
        "# A string containing two email addresses\n",
        "text2 = \"You can contact abcd@gmail.co.in or xyzw@yahoo.in\"\n",
        "\n",
        "# Using a regular expression to find all email addresses in the string\n",
        "email_addresses = re.findall(r'\\S+@\\S+', text2)\n",
        "\n",
        "# Printing a message to the console\n",
        "print(\"Extracted Email Addresses:\")\n",
        "\n",
        "# Printing the extracted email addresses to the console\n",
        "print(email_addresses)"
      ]
    },
    {
      "cell_type": "markdown",
      "metadata": {
        "id": "jOLz0AwbWs77"
      },
      "source": [
        "##  **4.  Demonstrate stemming & stop word removal using nltk library for content given below**\n",
        "\n",
        ">   Most of the world will make decisions by either guessing or using their gut. They will beeither lucky or wrong.\n",
        ">\n",
        ">   The goal is to turn data into information and information into insight."
      ]
    },
    {
      "cell_type": "code",
      "execution_count": null,
      "metadata": {
        "id": "SAvyZNE_Ws77"
      },
      "outputs": [],
      "source": [
        "import nltk  # Importing the Natural Language Toolkit (NLTK)\n",
        "nltk.data.path.append('/root/nltk_data')  # Adding the path to NLTK data\n",
        "nltk.download('punkt')  # Downloading the Punkt Tokenizer Models\n",
        "nltk.download('stopwords')  # Downloading the Stopwords Corpus\n",
        "from nltk.corpus import stopwords  # Importing the stopwords corpus\n",
        "from nltk.stem import PorterStemmer  # Importing the Porter Stemmer\n",
        "\n",
        "# A string containing a sentence\n",
        "text = \"Stemming and stop word removal are common text preprocessing techniques.\"\n",
        "\n",
        "# Tokenizing the sentence into words\n",
        "words = nltk.word_tokenize(text)\n",
        "\n",
        "# Getting a set of English stop words\n",
        "stop_words = set(stopwords.words('english'))\n",
        "\n",
        "# Filtering out the stop words from the tokenized words\n",
        "filtered_words = [word for word in words if word.lower() not in stop_words]\n",
        "\n",
        "# Creating a Porter Stemmer object\n",
        "stemmer = PorterStemmer()\n",
        "\n",
        "# Stemming the filtered words\n",
        "stemmed_words = [stemmer.stem(word) for word in filtered_words]\n",
        "\n",
        "# Printing the original tokenized words\n",
        "print(\"Original Words: \", words)\n",
        "\n",
        "# Printing the words after stop word removal\n",
        "print(\"Filtered Words (Stop Word Removal): \", filtered_words)\n",
        "\n",
        "# Printing the words after stemming\n",
        "print(\"Stemmed Words: \", stemmed_words)"
      ]
    },
    {
      "cell_type": "markdown",
      "metadata": {
        "id": "Pjzmurb4Ws78"
      },
      "source": [
        "##  **5.  Using a 20 newsgroup dataset, create and demonstrate a bag of words model.Also convert theraw newsgroup documents into a matrix of TF-IDF feature.**"
      ]
    },
    {
      "cell_type": "code",
      "execution_count": null,
      "metadata": {
        "id": "0jn0w_XKWs78"
      },
      "outputs": [],
      "source": [
        "from sklearn.datasets import fetch_20newsgroups  # Importing the 20 newsgroups dataset from sklearn\n",
        "from sklearn.feature_extraction.text import CountVectorizer, TfidfVectorizer  # Importing CountVectorizer and TfidfVectorizer\n",
        "\n",
        "# Fetching the 20 newsgroups dataset, removing headers, footers, and quotes\n",
        "newsgroups = fetch_20newsgroups(subset='all', remove=('headers', 'footers', 'quotes'))\n",
        "\n",
        "# Creating a CountVectorizer object\n",
        "count_vectorizer = CountVectorizer()\n",
        "\n",
        "# Transforming the newsgroups data into a document-term matrix using CountVectorizer\n",
        "X_count = count_vectorizer.fit_transform(newsgroups.data)\n",
        "\n",
        "# Creating a TfidfVectorizer object\n",
        "tfidf_vectorizer = TfidfVectorizer()\n",
        "\n",
        "# Transforming the newsgroups data into a document-term matrix using TfidfVectorizer\n",
        "X_tfidf = tfidf_vectorizer.fit_transform(newsgroups.data)\n",
        "\n",
        "# Selecting a document index\n",
        "document_index = 0\n",
        "\n",
        "# Printing the original document\n",
        "print(\"Original Document:\")\n",
        "print(newsgroups.data[document_index])\n",
        "\n",
        "# Printing the Bag-of-Words (BoW) representation of the document\n",
        "print(\"\\nBoW Representation:\")\n",
        "print(X_count[document_index])\n",
        "\n",
        "# Printing the TF-IDF representation of the document\n",
        "print(\"\\nTF-IDF Representation:\")\n",
        "print(X_tfidf[document_index])"
      ]
    },
    {
      "cell_type": "markdown",
      "metadata": {
        "id": "NAHqJYJnWs79"
      },
      "source": [
        "# **Practical 08**\n",
        "\n",
        "**Develop Programs to visualize the data using matplotlib**\n",
        "\n",
        "1.  Line Plot\n",
        "2.  Scatter Plot\n",
        "3.  Bar Chart\n",
        "4.  Histogram\n",
        "5.  Pie Chart\n",
        "\n",
        "-----"
      ]
    },
    {
      "cell_type": "code",
      "execution_count": null,
      "metadata": {
        "id": "Rf136-cmWs79"
      },
      "outputs": [],
      "source": [
        "import matplotlib.pyplot as plt\n",
        "import numpy as np"
      ]
    },
    {
      "cell_type": "markdown",
      "metadata": {
        "id": "U-DjH-3zWs7-"
      },
      "source": [
        "##  **1. Line Plot**"
      ]
    },
    {
      "cell_type": "code",
      "execution_count": null,
      "metadata": {
        "id": "Hh5KIf3dWs7-"
      },
      "outputs": [],
      "source": [
        "# Line Plot\n",
        "x = np.linspace(0, 10, 100)\n",
        "y = np.sin(x)\n",
        "plt.figure(figsize=(9, 3))\n",
        "plt.plot(x, y)\n",
        "plt.show()"
      ]
    },
    {
      "cell_type": "markdown",
      "metadata": {
        "id": "P3jujIZlWs7-"
      },
      "source": [
        "##  **2.  Scatter Plot**"
      ]
    },
    {
      "cell_type": "code",
      "execution_count": null,
      "metadata": {
        "id": "vJTNGudvWs7_"
      },
      "outputs": [],
      "source": [
        "# Scatter Plot\n",
        "x = np.random.rand(50)\n",
        "y = np.random.rand(50)\n",
        "plt.figure(figsize=(9, 3))\n",
        "plt.scatter(x, y)\n",
        "plt.show()"
      ]
    },
    {
      "cell_type": "markdown",
      "metadata": {
        "id": "qoYzSd5TWs7_"
      },
      "source": [
        "##  **3.  Bar Chart**"
      ]
    },
    {
      "cell_type": "code",
      "execution_count": null,
      "metadata": {
        "id": "5EkfXiNBWs8A"
      },
      "outputs": [],
      "source": [
        "# Bar Chart\n",
        "x = ['A', 'B', 'C', 'D', 'E']\n",
        "y = [3, 7, 2, 5, 8]\n",
        "plt.figure(figsize=(9, 3))\n",
        "plt.bar(x, y)\n",
        "plt.show()"
      ]
    },
    {
      "cell_type": "markdown",
      "metadata": {
        "id": "GopU1oHpWs8A"
      },
      "source": [
        "##  **4.  Histogram**"
      ]
    },
    {
      "cell_type": "code",
      "execution_count": null,
      "metadata": {
        "id": "K-Quhl0wWs8B"
      },
      "outputs": [],
      "source": [
        "# Histogram\n",
        "data = np.random.randn(1000)\n",
        "plt.figure(figsize=(9, 3))\n",
        "plt.hist(data, bins=30)\n",
        "plt.show()"
      ]
    },
    {
      "cell_type": "markdown",
      "metadata": {
        "id": "eEyZNbhuWs8B"
      },
      "source": [
        "##  **5.  Pie Chart**"
      ]
    },
    {
      "cell_type": "code",
      "execution_count": null,
      "metadata": {
        "id": "tx-RbdDPWs8B"
      },
      "outputs": [],
      "source": [
        "# Pie Chart\n",
        "sizes = [215, 130, 245, 210]\n",
        "labels = ['A', 'B', 'C', 'D']\n",
        "plt.figure(figsize=(9, 3))\n",
        "plt.pie(sizes, labels=labels, autopct='%1.1f%%')\n",
        "plt.show()"
      ]
    },
    {
      "cell_type": "markdown",
      "metadata": {
        "id": "Ia7YPU0tWs8C"
      },
      "source": [
        "# **Practical 09**\n",
        "\n",
        "**Demonstration of Scikit-learn and other machine learning libraries such as keras, tensorflow etc.**\n",
        "\n",
        "1.  Scikit-Learn for Classification (e.g., Iris dataset)\n",
        "2.  Using Keras for Neural Networks\n",
        "\n",
        "-----"
      ]
    },
    {
      "cell_type": "markdown",
      "metadata": {
        "id": "oANDQxwtWs8C"
      },
      "source": [
        "## **1.  Scikit-Learn for Classification (e.g., Iris dataset)**"
      ]
    },
    {
      "cell_type": "code",
      "execution_count": null,
      "metadata": {
        "id": "obukc6ojWs8D"
      },
      "outputs": [],
      "source": [
        "# Import the function to load iris dataset from sklearn.datasets\n",
        "from sklearn.datasets import load_iris\n",
        "\n",
        "# Load the iris dataset\n",
        "iris = load_iris()\n",
        "\n",
        "# Store the feature matrix (X) and response vector (y)\n",
        "# The feature matrix 'X' is a multidimensional array containing the features that the model will learn from\n",
        "# The response vector 'y' is an array containing the target variable that the model will predict\n",
        "X = iris.data\n",
        "y = iris.target\n",
        "\n",
        "# Store the feature and target names\n",
        "# 'feature_names' is a list of the names of each feature\n",
        "# 'target_names' is a list of the names of each target class\n",
        "feature_names = iris.feature_names\n",
        "target_names = iris.target_names\n",
        "\n",
        "# Print the feature and target names\n",
        "print(\"Feature names:\", feature_names)\n",
        "print(\"Target names:\", target_names)\n",
        "\n",
        "# Print the type of the feature matrix 'X'\n",
        "print(\"\\nType of X is:\", type(X))\n",
        "\n",
        "# Print the first 5 rows of the feature matrix 'X'\n",
        "print(\"\\nFirst 5 rows of X:\\n\", X[:5])"
      ]
    },
    {
      "cell_type": "markdown",
      "metadata": {
        "id": "R6MmLdibWs8E"
      },
      "source": [
        "## **2.  Using Keras for Neural Networks**"
      ]
    },
    {
      "cell_type": "code",
      "execution_count": null,
      "metadata": {
        "id": "XRbsaMzLWs8E"
      },
      "outputs": [],
      "source": [
        "# Import necessary modules from Keras\n",
        "import keras\n",
        "from keras.datasets import mnist\n",
        "from keras.models import Sequential\n",
        "from keras.layers import Dense, Dropout\n",
        "from keras.optimizers import RMSprop\n",
        "\n",
        "# Set the batch size, number of classes, and number of epochs\n",
        "batch_size = 128\n",
        "num_classes = 10\n",
        "epochs = 5\n",
        "\n",
        "# Load the MNIST dataset and split it into training and test sets\n",
        "(x_train, y_train), (x_test, y_test) = mnist.load_data()\n",
        "\n",
        "# Reshape the data to fit the model\n",
        "x_train = x_train.reshape(60000, 784)\n",
        "x_test = x_test.reshape(10000, 784)\n",
        "\n",
        "# Convert the data to float32 type\n",
        "x_train = x_train.astype('float32')\n",
        "x_test = x_test.astype('float32')\n",
        "\n",
        "# Normalize the pixel values (between 0 and 1)\n",
        "x_train /= 255\n",
        "x_test /= 255\n",
        "\n",
        "# Convert class vectors to binary class matrices\n",
        "y_train = keras.utils.to_categorical(y_train, num_classes)\n",
        "y_test = keras.utils.to_categorical(y_test, num_classes)\n",
        "\n",
        "# Create a Sequential model\n",
        "model = Sequential()\n",
        "\n",
        "# Add a dense layer with 512 units, ReLU activation and input shape of 784\n",
        "model.add(Dense(512, activation='relu', input_shape=(784,)))\n",
        "\n",
        "# Add a dropout layer to prevent overfitting\n",
        "model.add(Dropout(0.2))\n",
        "\n",
        "# Add another dense layer with 512 units and ReLU activation\n",
        "model.add(Dense(512, activation='relu'))\n",
        "\n",
        "# Add another dropout layer\n",
        "model.add(Dropout(0.2))\n",
        "\n",
        "# Add a dense output layer with 10 units (one for each class) and softmax activation\n",
        "model.add(Dense(num_classes, activation='softmax'))\n",
        "\n",
        "# Compile the model with categorical crossentropy loss, RMSprop optimizer and accuracy metric\n",
        "model.compile(loss='categorical_crossentropy', optimizer=RMSprop(), metrics=['accuracy'])\n",
        "\n",
        "# Fit the model on the training data, with specified batch size, epochs and verbosity\n",
        "# Also pass the test data for validation\n",
        "model.fit(x_train, y_train, batch_size=batch_size, epochs=epochs, verbose=1, validation_data=(x_test, y_test))\n",
        "\n",
        "# Evaluate the model on the test data and print the test loss and accuracy\n",
        "score = model.evaluate(x_test, y_test, verbose=0)\n",
        "print('Test loss:', score[0])\n",
        "print('Test accuracy:', score[1])"
      ]
    }
  ],
  "metadata": {
    "colab": {
      "provenance": [],
      "toc_visible": true,
      "include_colab_link": true
    },
    "kernelspec": {
      "display_name": "Python 3",
      "name": "python3"
    },
    "language_info": {
      "codemirror_mode": {
        "name": "ipython",
        "version": 3
      },
      "file_extension": ".py",
      "mimetype": "text/x-python",
      "name": "python",
      "nbconvert_exporter": "python",
      "pygments_lexer": "ipython3",
      "version": "3.9.2"
    }
  },
  "nbformat": 4,
  "nbformat_minor": 0
}